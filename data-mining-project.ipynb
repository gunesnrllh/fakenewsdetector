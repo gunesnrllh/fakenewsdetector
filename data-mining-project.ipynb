{
 "cells": [
  {
   "cell_type": "markdown",
   "metadata": {
    "papermill": {
     "duration": 0.039595,
     "end_time": "2021-01-04T17:20:28.910816",
     "exception": false,
     "start_time": "2021-01-04T17:20:28.871221",
     "status": "completed"
    },
    "tags": []
   },
   "source": [
    "Import of general libraries"
   ]
  },
  {
   "cell_type": "code",
   "execution_count": 1,
   "metadata": {
    "_cell_guid": "b1076dfc-b9ad-4769-8c92-a6c4dae69d19",
    "_uuid": "8f2839f25d086af736a60e9eeb907d3b93b6e0e5",
    "execution": {
     "iopub.execute_input": "2021-01-04T17:20:28.991895Z",
     "iopub.status.busy": "2021-01-04T17:20:28.991179Z",
     "iopub.status.idle": "2021-01-04T17:20:28.993915Z",
     "shell.execute_reply": "2021-01-04T17:20:28.993383Z"
    },
    "papermill": {
     "duration": 0.04505,
     "end_time": "2021-01-04T17:20:28.994007",
     "exception": false,
     "start_time": "2021-01-04T17:20:28.948957",
     "status": "completed"
    },
    "tags": []
   },
   "outputs": [],
   "source": [
    "import numpy as np \n",
    "import pandas as pd"
   ]
  },
  {
   "cell_type": "markdown",
   "metadata": {
    "papermill": {
     "duration": 0.019565,
     "end_time": "2021-01-04T17:20:29.032578",
     "exception": false,
     "start_time": "2021-01-04T17:20:29.013013",
     "status": "completed"
    },
    "tags": []
   },
   "source": [
    "Veriyi okuma işlemi"
   ]
  },
  {
   "cell_type": "code",
   "execution_count": 2,
   "metadata": {
    "execution": {
     "iopub.execute_input": "2021-01-04T17:20:29.081102Z",
     "iopub.status.busy": "2021-01-04T17:20:29.080357Z",
     "iopub.status.idle": "2021-01-04T17:20:31.693372Z",
     "shell.execute_reply": "2021-01-04T17:20:31.691787Z"
    },
    "papermill": {
     "duration": 2.642921,
     "end_time": "2021-01-04T17:20:31.693518",
     "exception": false,
     "start_time": "2021-01-04T17:20:29.050597",
     "status": "completed"
    },
    "tags": []
   },
   "outputs": [],
   "source": [
    "data_true = pd.read_csv(\"../input/fake-and-real-news-dataset/True.csv\")\n",
    "data_false = pd.read_csv(\"../input/fake-and-real-news-dataset/Fake.csv\")"
   ]
  },
  {
   "cell_type": "code",
   "execution_count": 3,
   "metadata": {
    "execution": {
     "iopub.execute_input": "2021-01-04T17:20:31.777799Z",
     "iopub.status.busy": "2021-01-04T17:20:31.776915Z",
     "iopub.status.idle": "2021-01-04T17:20:31.782887Z",
     "shell.execute_reply": "2021-01-04T17:20:31.782288Z"
    },
    "papermill": {
     "duration": 0.049892,
     "end_time": "2021-01-04T17:20:31.782996",
     "exception": false,
     "start_time": "2021-01-04T17:20:31.733104",
     "status": "completed"
    },
    "tags": []
   },
   "outputs": [
    {
     "ename": "SyntaxError",
     "evalue": "invalid syntax (<ipython-input-3-e95d5e236c12>, line 1)",
     "output_type": "error",
     "traceback": [
      "\u001b[0;36m  File \u001b[0;32m\"<ipython-input-3-e95d5e236c12>\"\u001b[0;36m, line \u001b[0;32m1\u001b[0m\n\u001b[0;31m    her satırın etiketlenmesi\u001b[0m\n\u001b[0m              ^\u001b[0m\n\u001b[0;31mSyntaxError\u001b[0m\u001b[0;31m:\u001b[0m invalid syntax\n"
     ]
    }
   ],
   "source": [
    "her satırın etiketlenmesi"
   ]
  },
  {
   "cell_type": "markdown",
   "metadata": {
    "papermill": {
     "duration": 0.025763,
     "end_time": "2021-01-04T17:20:31.834889",
     "exception": false,
     "start_time": "2021-01-04T17:20:31.809126",
     "status": "completed"
    },
    "tags": []
   },
   "source": [
    "her satırın etiketlenmesi"
   ]
  },
  {
   "cell_type": "code",
   "execution_count": 4,
   "metadata": {
    "execution": {
     "iopub.execute_input": "2021-01-04T17:20:31.905567Z",
     "iopub.status.busy": "2021-01-04T17:20:31.904806Z",
     "iopub.status.idle": "2021-01-04T17:20:31.910483Z",
     "shell.execute_reply": "2021-01-04T17:20:31.909630Z"
    },
    "papermill": {
     "duration": 0.049951,
     "end_time": "2021-01-04T17:20:31.910772",
     "exception": false,
     "start_time": "2021-01-04T17:20:31.860821",
     "status": "completed"
    },
    "tags": []
   },
   "outputs": [],
   "source": [
    "data_true[\"label\"]= 0\n",
    "data_false[\"label\"]= 1"
   ]
  },
  {
   "cell_type": "markdown",
   "metadata": {
    "papermill": {
     "duration": 0.025984,
     "end_time": "2021-01-04T17:20:31.964375",
     "exception": false,
     "start_time": "2021-01-04T17:20:31.938391",
     "status": "completed"
    },
    "tags": []
   },
   "source": [
    "Verilere bir bakış"
   ]
  },
  {
   "cell_type": "code",
   "execution_count": 5,
   "metadata": {
    "execution": {
     "iopub.execute_input": "2021-01-04T17:20:32.029466Z",
     "iopub.status.busy": "2021-01-04T17:20:32.028738Z",
     "iopub.status.idle": "2021-01-04T17:20:32.045806Z",
     "shell.execute_reply": "2021-01-04T17:20:32.045148Z"
    },
    "papermill": {
     "duration": 0.054981,
     "end_time": "2021-01-04T17:20:32.045931",
     "exception": false,
     "start_time": "2021-01-04T17:20:31.990950",
     "status": "completed"
    },
    "tags": []
   },
   "outputs": [
    {
     "data": {
      "text/html": [
       "<div>\n",
       "<style scoped>\n",
       "    .dataframe tbody tr th:only-of-type {\n",
       "        vertical-align: middle;\n",
       "    }\n",
       "\n",
       "    .dataframe tbody tr th {\n",
       "        vertical-align: top;\n",
       "    }\n",
       "\n",
       "    .dataframe thead th {\n",
       "        text-align: right;\n",
       "    }\n",
       "</style>\n",
       "<table border=\"1\" class=\"dataframe\">\n",
       "  <thead>\n",
       "    <tr style=\"text-align: right;\">\n",
       "      <th></th>\n",
       "      <th>title</th>\n",
       "      <th>text</th>\n",
       "      <th>subject</th>\n",
       "      <th>date</th>\n",
       "      <th>label</th>\n",
       "    </tr>\n",
       "  </thead>\n",
       "  <tbody>\n",
       "    <tr>\n",
       "      <th>0</th>\n",
       "      <td>As U.S. budget fight looms, Republicans flip t...</td>\n",
       "      <td>WASHINGTON (Reuters) - The head of a conservat...</td>\n",
       "      <td>politicsNews</td>\n",
       "      <td>December 31, 2017</td>\n",
       "      <td>0</td>\n",
       "    </tr>\n",
       "    <tr>\n",
       "      <th>1</th>\n",
       "      <td>U.S. military to accept transgender recruits o...</td>\n",
       "      <td>WASHINGTON (Reuters) - Transgender people will...</td>\n",
       "      <td>politicsNews</td>\n",
       "      <td>December 29, 2017</td>\n",
       "      <td>0</td>\n",
       "    </tr>\n",
       "    <tr>\n",
       "      <th>2</th>\n",
       "      <td>Senior U.S. Republican senator: 'Let Mr. Muell...</td>\n",
       "      <td>WASHINGTON (Reuters) - The special counsel inv...</td>\n",
       "      <td>politicsNews</td>\n",
       "      <td>December 31, 2017</td>\n",
       "      <td>0</td>\n",
       "    </tr>\n",
       "    <tr>\n",
       "      <th>3</th>\n",
       "      <td>FBI Russia probe helped by Australian diplomat...</td>\n",
       "      <td>WASHINGTON (Reuters) - Trump campaign adviser ...</td>\n",
       "      <td>politicsNews</td>\n",
       "      <td>December 30, 2017</td>\n",
       "      <td>0</td>\n",
       "    </tr>\n",
       "    <tr>\n",
       "      <th>4</th>\n",
       "      <td>Trump wants Postal Service to charge 'much mor...</td>\n",
       "      <td>SEATTLE/WASHINGTON (Reuters) - President Donal...</td>\n",
       "      <td>politicsNews</td>\n",
       "      <td>December 29, 2017</td>\n",
       "      <td>0</td>\n",
       "    </tr>\n",
       "  </tbody>\n",
       "</table>\n",
       "</div>"
      ],
      "text/plain": [
       "                                               title  \\\n",
       "0  As U.S. budget fight looms, Republicans flip t...   \n",
       "1  U.S. military to accept transgender recruits o...   \n",
       "2  Senior U.S. Republican senator: 'Let Mr. Muell...   \n",
       "3  FBI Russia probe helped by Australian diplomat...   \n",
       "4  Trump wants Postal Service to charge 'much mor...   \n",
       "\n",
       "                                                text       subject  \\\n",
       "0  WASHINGTON (Reuters) - The head of a conservat...  politicsNews   \n",
       "1  WASHINGTON (Reuters) - Transgender people will...  politicsNews   \n",
       "2  WASHINGTON (Reuters) - The special counsel inv...  politicsNews   \n",
       "3  WASHINGTON (Reuters) - Trump campaign adviser ...  politicsNews   \n",
       "4  SEATTLE/WASHINGTON (Reuters) - President Donal...  politicsNews   \n",
       "\n",
       "                 date  label  \n",
       "0  December 31, 2017       0  \n",
       "1  December 29, 2017       0  \n",
       "2  December 31, 2017       0  \n",
       "3  December 30, 2017       0  \n",
       "4  December 29, 2017       0  "
      ]
     },
     "execution_count": 5,
     "metadata": {},
     "output_type": "execute_result"
    }
   ],
   "source": [
    "data_true.head()"
   ]
  },
  {
   "cell_type": "code",
   "execution_count": 6,
   "metadata": {
    "execution": {
     "iopub.execute_input": "2021-01-04T17:20:32.115463Z",
     "iopub.status.busy": "2021-01-04T17:20:32.114542Z",
     "iopub.status.idle": "2021-01-04T17:20:32.122440Z",
     "shell.execute_reply": "2021-01-04T17:20:32.123207Z"
    },
    "papermill": {
     "duration": 0.050536,
     "end_time": "2021-01-04T17:20:32.123462",
     "exception": false,
     "start_time": "2021-01-04T17:20:32.072926",
     "status": "completed"
    },
    "tags": []
   },
   "outputs": [
    {
     "data": {
      "text/html": [
       "<div>\n",
       "<style scoped>\n",
       "    .dataframe tbody tr th:only-of-type {\n",
       "        vertical-align: middle;\n",
       "    }\n",
       "\n",
       "    .dataframe tbody tr th {\n",
       "        vertical-align: top;\n",
       "    }\n",
       "\n",
       "    .dataframe thead th {\n",
       "        text-align: right;\n",
       "    }\n",
       "</style>\n",
       "<table border=\"1\" class=\"dataframe\">\n",
       "  <thead>\n",
       "    <tr style=\"text-align: right;\">\n",
       "      <th></th>\n",
       "      <th>title</th>\n",
       "      <th>text</th>\n",
       "      <th>subject</th>\n",
       "      <th>date</th>\n",
       "      <th>label</th>\n",
       "    </tr>\n",
       "  </thead>\n",
       "  <tbody>\n",
       "    <tr>\n",
       "      <th>0</th>\n",
       "      <td>Donald Trump Sends Out Embarrassing New Year’...</td>\n",
       "      <td>Donald Trump just couldn t wish all Americans ...</td>\n",
       "      <td>News</td>\n",
       "      <td>December 31, 2017</td>\n",
       "      <td>1</td>\n",
       "    </tr>\n",
       "    <tr>\n",
       "      <th>1</th>\n",
       "      <td>Drunk Bragging Trump Staffer Started Russian ...</td>\n",
       "      <td>House Intelligence Committee Chairman Devin Nu...</td>\n",
       "      <td>News</td>\n",
       "      <td>December 31, 2017</td>\n",
       "      <td>1</td>\n",
       "    </tr>\n",
       "    <tr>\n",
       "      <th>2</th>\n",
       "      <td>Sheriff David Clarke Becomes An Internet Joke...</td>\n",
       "      <td>On Friday, it was revealed that former Milwauk...</td>\n",
       "      <td>News</td>\n",
       "      <td>December 30, 2017</td>\n",
       "      <td>1</td>\n",
       "    </tr>\n",
       "    <tr>\n",
       "      <th>3</th>\n",
       "      <td>Trump Is So Obsessed He Even Has Obama’s Name...</td>\n",
       "      <td>On Christmas day, Donald Trump announced that ...</td>\n",
       "      <td>News</td>\n",
       "      <td>December 29, 2017</td>\n",
       "      <td>1</td>\n",
       "    </tr>\n",
       "    <tr>\n",
       "      <th>4</th>\n",
       "      <td>Pope Francis Just Called Out Donald Trump Dur...</td>\n",
       "      <td>Pope Francis used his annual Christmas Day mes...</td>\n",
       "      <td>News</td>\n",
       "      <td>December 25, 2017</td>\n",
       "      <td>1</td>\n",
       "    </tr>\n",
       "  </tbody>\n",
       "</table>\n",
       "</div>"
      ],
      "text/plain": [
       "                                               title  \\\n",
       "0   Donald Trump Sends Out Embarrassing New Year’...   \n",
       "1   Drunk Bragging Trump Staffer Started Russian ...   \n",
       "2   Sheriff David Clarke Becomes An Internet Joke...   \n",
       "3   Trump Is So Obsessed He Even Has Obama’s Name...   \n",
       "4   Pope Francis Just Called Out Donald Trump Dur...   \n",
       "\n",
       "                                                text subject  \\\n",
       "0  Donald Trump just couldn t wish all Americans ...    News   \n",
       "1  House Intelligence Committee Chairman Devin Nu...    News   \n",
       "2  On Friday, it was revealed that former Milwauk...    News   \n",
       "3  On Christmas day, Donald Trump announced that ...    News   \n",
       "4  Pope Francis used his annual Christmas Day mes...    News   \n",
       "\n",
       "                date  label  \n",
       "0  December 31, 2017      1  \n",
       "1  December 31, 2017      1  \n",
       "2  December 30, 2017      1  \n",
       "3  December 29, 2017      1  \n",
       "4  December 25, 2017      1  "
      ]
     },
     "execution_count": 6,
     "metadata": {},
     "output_type": "execute_result"
    }
   ],
   "source": [
    "data_false.head()"
   ]
  },
  {
   "cell_type": "code",
   "execution_count": 7,
   "metadata": {
    "execution": {
     "iopub.execute_input": "2021-01-04T17:20:32.175088Z",
     "iopub.status.busy": "2021-01-04T17:20:32.174468Z",
     "iopub.status.idle": "2021-01-04T17:20:32.177620Z",
     "shell.execute_reply": "2021-01-04T17:20:32.176967Z"
    },
    "papermill": {
     "duration": 0.034051,
     "end_time": "2021-01-04T17:20:32.177727",
     "exception": false,
     "start_time": "2021-01-04T17:20:32.143676",
     "status": "completed"
    },
    "tags": []
   },
   "outputs": [
    {
     "name": "stdout",
     "output_type": "stream",
     "text": [
      "(21417, 5)\n",
      "(23481, 5)\n"
     ]
    }
   ],
   "source": [
    "print(data_true.shape)\n",
    "print(data_false.shape)"
   ]
  },
  {
   "cell_type": "markdown",
   "metadata": {
    "papermill": {
     "duration": 0.027627,
     "end_time": "2021-01-04T17:20:32.233469",
     "exception": false,
     "start_time": "2021-01-04T17:20:32.205842",
     "status": "completed"
    },
    "tags": []
   },
   "source": [
    "veriler hakkında bilgi ediniyoruz"
   ]
  },
  {
   "cell_type": "code",
   "execution_count": 8,
   "metadata": {
    "execution": {
     "iopub.execute_input": "2021-01-04T17:20:32.303777Z",
     "iopub.status.busy": "2021-01-04T17:20:32.303010Z",
     "iopub.status.idle": "2021-01-04T17:20:32.316409Z",
     "shell.execute_reply": "2021-01-04T17:20:32.317089Z"
    },
    "papermill": {
     "duration": 0.05578,
     "end_time": "2021-01-04T17:20:32.317268",
     "exception": false,
     "start_time": "2021-01-04T17:20:32.261488",
     "status": "completed"
    },
    "tags": []
   },
   "outputs": [
    {
     "name": "stdout",
     "output_type": "stream",
     "text": [
      "<class 'pandas.core.frame.DataFrame'>\n",
      "RangeIndex: 21417 entries, 0 to 21416\n",
      "Data columns (total 5 columns):\n",
      " #   Column   Non-Null Count  Dtype \n",
      "---  ------   --------------  ----- \n",
      " 0   title    21417 non-null  object\n",
      " 1   text     21417 non-null  object\n",
      " 2   subject  21417 non-null  object\n",
      " 3   date     21417 non-null  object\n",
      " 4   label    21417 non-null  int64 \n",
      "dtypes: int64(1), object(4)\n",
      "memory usage: 836.7+ KB\n"
     ]
    }
   ],
   "source": [
    "data_true.info()"
   ]
  },
  {
   "cell_type": "code",
   "execution_count": 9,
   "metadata": {
    "execution": {
     "iopub.execute_input": "2021-01-04T17:20:32.420904Z",
     "iopub.status.busy": "2021-01-04T17:20:32.409234Z",
     "iopub.status.idle": "2021-01-04T17:20:32.435274Z",
     "shell.execute_reply": "2021-01-04T17:20:32.434610Z"
    },
    "papermill": {
     "duration": 0.075161,
     "end_time": "2021-01-04T17:20:32.435416",
     "exception": false,
     "start_time": "2021-01-04T17:20:32.360255",
     "status": "completed"
    },
    "tags": []
   },
   "outputs": [
    {
     "name": "stdout",
     "output_type": "stream",
     "text": [
      "<class 'pandas.core.frame.DataFrame'>\n",
      "RangeIndex: 23481 entries, 0 to 23480\n",
      "Data columns (total 5 columns):\n",
      " #   Column   Non-Null Count  Dtype \n",
      "---  ------   --------------  ----- \n",
      " 0   title    23481 non-null  object\n",
      " 1   text     23481 non-null  object\n",
      " 2   subject  23481 non-null  object\n",
      " 3   date     23481 non-null  object\n",
      " 4   label    23481 non-null  int64 \n",
      "dtypes: int64(1), object(4)\n",
      "memory usage: 917.4+ KB\n"
     ]
    }
   ],
   "source": [
    "data_false.info()"
   ]
  },
  {
   "cell_type": "markdown",
   "metadata": {
    "papermill": {
     "duration": 0.036559,
     "end_time": "2021-01-04T17:20:32.508423",
     "exception": false,
     "start_time": "2021-01-04T17:20:32.471864",
     "status": "completed"
    },
    "tags": []
   },
   "source": [
    "Verilerin bir araya getirilmesi"
   ]
  },
  {
   "cell_type": "code",
   "execution_count": 10,
   "metadata": {
    "execution": {
     "iopub.execute_input": "2021-01-04T17:20:32.591412Z",
     "iopub.status.busy": "2021-01-04T17:20:32.590528Z",
     "iopub.status.idle": "2021-01-04T17:20:32.603696Z",
     "shell.execute_reply": "2021-01-04T17:20:32.604593Z"
    },
    "papermill": {
     "duration": 0.059245,
     "end_time": "2021-01-04T17:20:32.604780",
     "exception": false,
     "start_time": "2021-01-04T17:20:32.545535",
     "status": "completed"
    },
    "tags": []
   },
   "outputs": [
    {
     "data": {
      "text/plain": [
       "(44898, 5)"
      ]
     },
     "execution_count": 10,
     "metadata": {},
     "output_type": "execute_result"
    }
   ],
   "source": [
    "data = pd.concat([data_true, data_false])\n",
    "data.shape"
   ]
  },
  {
   "cell_type": "code",
   "execution_count": 11,
   "metadata": {
    "execution": {
     "iopub.execute_input": "2021-01-04T17:20:32.677161Z",
     "iopub.status.busy": "2021-01-04T17:20:32.676556Z",
     "iopub.status.idle": "2021-01-04T17:20:33.819481Z",
     "shell.execute_reply": "2021-01-04T17:20:33.819977Z"
    },
    "papermill": {
     "duration": 1.178937,
     "end_time": "2021-01-04T17:20:33.820146",
     "exception": false,
     "start_time": "2021-01-04T17:20:32.641209",
     "status": "completed"
    },
    "tags": []
   },
   "outputs": [],
   "source": [
    "from sklearn.utils import shuffle\n",
    "data = shuffle(data)\n",
    "data = data.reset_index(drop=True)"
   ]
  },
  {
   "cell_type": "code",
   "execution_count": 12,
   "metadata": {
    "execution": {
     "iopub.execute_input": "2021-01-04T17:20:33.887286Z",
     "iopub.status.busy": "2021-01-04T17:20:33.886547Z",
     "iopub.status.idle": "2021-01-04T17:20:33.899274Z",
     "shell.execute_reply": "2021-01-04T17:20:33.899818Z"
    },
    "papermill": {
     "duration": 0.050049,
     "end_time": "2021-01-04T17:20:33.899974",
     "exception": false,
     "start_time": "2021-01-04T17:20:33.849925",
     "status": "completed"
    },
    "tags": []
   },
   "outputs": [
    {
     "data": {
      "text/html": [
       "<div>\n",
       "<style scoped>\n",
       "    .dataframe tbody tr th:only-of-type {\n",
       "        vertical-align: middle;\n",
       "    }\n",
       "\n",
       "    .dataframe tbody tr th {\n",
       "        vertical-align: top;\n",
       "    }\n",
       "\n",
       "    .dataframe thead th {\n",
       "        text-align: right;\n",
       "    }\n",
       "</style>\n",
       "<table border=\"1\" class=\"dataframe\">\n",
       "  <thead>\n",
       "    <tr style=\"text-align: right;\">\n",
       "      <th></th>\n",
       "      <th>title</th>\n",
       "      <th>text</th>\n",
       "      <th>subject</th>\n",
       "      <th>date</th>\n",
       "      <th>label</th>\n",
       "    </tr>\n",
       "  </thead>\n",
       "  <tbody>\n",
       "    <tr>\n",
       "      <th>0</th>\n",
       "      <td>Rosenstein may need to recuse himself from Rus...</td>\n",
       "      <td>WASHINGTON (Reuters) - U.S. Deputy Attorney Ge...</td>\n",
       "      <td>politicsNews</td>\n",
       "      <td>June 16, 2017</td>\n",
       "      <td>0</td>\n",
       "    </tr>\n",
       "    <tr>\n",
       "      <th>1</th>\n",
       "      <td>BUSTED: Trump Took Millions Of Dollars From S...</td>\n",
       "      <td>Remember when Fox host Sean Hannity directly a...</td>\n",
       "      <td>News</td>\n",
       "      <td>October 5, 2016</td>\n",
       "      <td>1</td>\n",
       "    </tr>\n",
       "    <tr>\n",
       "      <th>2</th>\n",
       "      <td>Ted Cruz Gets Confronted By A Furious Trump S...</td>\n",
       "      <td>Ever since his devastating, humiliating loss t...</td>\n",
       "      <td>News</td>\n",
       "      <td>April 25, 2016</td>\n",
       "      <td>1</td>\n",
       "    </tr>\n",
       "    <tr>\n",
       "      <th>3</th>\n",
       "      <td>Bangladesh could move some Rohingya to flood-p...</td>\n",
       "      <td>DHAKA (Reuters) - Bangladesh could start reloc...</td>\n",
       "      <td>worldnews</td>\n",
       "      <td>November 30, 2017</td>\n",
       "      <td>0</td>\n",
       "    </tr>\n",
       "    <tr>\n",
       "      <th>4</th>\n",
       "      <td>Germany extends passport controls on Austrian ...</td>\n",
       "      <td>BERLIN (Reuters) - Germany has extended tempor...</td>\n",
       "      <td>worldnews</td>\n",
       "      <td>October 12, 2017</td>\n",
       "      <td>0</td>\n",
       "    </tr>\n",
       "    <tr>\n",
       "      <th>5</th>\n",
       "      <td>Factbox: Some Trump assertions on Iran questio...</td>\n",
       "      <td>WASHINGTON (Reuters) - In Friday’s speech layi...</td>\n",
       "      <td>politicsNews</td>\n",
       "      <td>October 13, 2017</td>\n",
       "      <td>0</td>\n",
       "    </tr>\n",
       "    <tr>\n",
       "      <th>6</th>\n",
       "      <td>Trump to sign Russia sanctions bill: White House</td>\n",
       "      <td>WASHINGTON (Reuters) - U.S. President Donald T...</td>\n",
       "      <td>politicsNews</td>\n",
       "      <td>July 29, 2017</td>\n",
       "      <td>0</td>\n",
       "    </tr>\n",
       "    <tr>\n",
       "      <th>7</th>\n",
       "      <td>Cher’s Currently On A Twitter Rampage Against...</td>\n",
       "      <td>If you ve even been on Twitter then you ll kno...</td>\n",
       "      <td>News</td>\n",
       "      <td>August 20, 2016</td>\n",
       "      <td>1</td>\n",
       "    </tr>\n",
       "    <tr>\n",
       "      <th>8</th>\n",
       "      <td>Senator Asks DOJ To Step In After White Supre...</td>\n",
       "      <td>A senator from Pennsylvania is asking the Depa...</td>\n",
       "      <td>News</td>\n",
       "      <td>November 3, 2016</td>\n",
       "      <td>1</td>\n",
       "    </tr>\n",
       "    <tr>\n",
       "      <th>9</th>\n",
       "      <td>Israel defence minister says hopes Palestinian...</td>\n",
       "      <td>JERUSALEM (Reuters) - Israeli Defence Minister...</td>\n",
       "      <td>worldnews</td>\n",
       "      <td>December 10, 2017</td>\n",
       "      <td>0</td>\n",
       "    </tr>\n",
       "  </tbody>\n",
       "</table>\n",
       "</div>"
      ],
      "text/plain": [
       "                                               title  \\\n",
       "0  Rosenstein may need to recuse himself from Rus...   \n",
       "1   BUSTED: Trump Took Millions Of Dollars From S...   \n",
       "2   Ted Cruz Gets Confronted By A Furious Trump S...   \n",
       "3  Bangladesh could move some Rohingya to flood-p...   \n",
       "4  Germany extends passport controls on Austrian ...   \n",
       "5  Factbox: Some Trump assertions on Iran questio...   \n",
       "6   Trump to sign Russia sanctions bill: White House   \n",
       "7   Cher’s Currently On A Twitter Rampage Against...   \n",
       "8   Senator Asks DOJ To Step In After White Supre...   \n",
       "9  Israel defence minister says hopes Palestinian...   \n",
       "\n",
       "                                                text       subject  \\\n",
       "0  WASHINGTON (Reuters) - U.S. Deputy Attorney Ge...  politicsNews   \n",
       "1  Remember when Fox host Sean Hannity directly a...          News   \n",
       "2  Ever since his devastating, humiliating loss t...          News   \n",
       "3  DHAKA (Reuters) - Bangladesh could start reloc...     worldnews   \n",
       "4  BERLIN (Reuters) - Germany has extended tempor...     worldnews   \n",
       "5  WASHINGTON (Reuters) - In Friday’s speech layi...  politicsNews   \n",
       "6  WASHINGTON (Reuters) - U.S. President Donald T...  politicsNews   \n",
       "7  If you ve even been on Twitter then you ll kno...          News   \n",
       "8  A senator from Pennsylvania is asking the Depa...          News   \n",
       "9  JERUSALEM (Reuters) - Israeli Defence Minister...     worldnews   \n",
       "\n",
       "                 date  label  \n",
       "0      June 16, 2017       0  \n",
       "1     October 5, 2016      1  \n",
       "2      April 25, 2016      1  \n",
       "3  November 30, 2017       0  \n",
       "4   October 12, 2017       0  \n",
       "5   October 13, 2017       0  \n",
       "6      July 29, 2017       0  \n",
       "7     August 20, 2016      1  \n",
       "8    November 3, 2016      1  \n",
       "9  December 10, 2017       0  "
      ]
     },
     "execution_count": 12,
     "metadata": {},
     "output_type": "execute_result"
    }
   ],
   "source": [
    "data.head(10)"
   ]
  },
  {
   "cell_type": "code",
   "execution_count": 13,
   "metadata": {
    "execution": {
     "iopub.execute_input": "2021-01-04T17:20:33.972025Z",
     "iopub.status.busy": "2021-01-04T17:20:33.970939Z",
     "iopub.status.idle": "2021-01-04T17:20:33.977856Z",
     "shell.execute_reply": "2021-01-04T17:20:33.976963Z"
    },
    "papermill": {
     "duration": 0.045219,
     "end_time": "2021-01-04T17:20:33.978009",
     "exception": false,
     "start_time": "2021-01-04T17:20:33.932790",
     "status": "completed"
    },
    "tags": []
   },
   "outputs": [
    {
     "data": {
      "text/plain": [
       "(44898,)"
      ]
     },
     "execution_count": 13,
     "metadata": {},
     "output_type": "execute_result"
    }
   ],
   "source": [
    "y = data[\"label\"]\n",
    "y.shape"
   ]
  },
  {
   "cell_type": "markdown",
   "metadata": {
    "papermill": {
     "duration": 0.045899,
     "end_time": "2021-01-04T17:20:34.071233",
     "exception": false,
     "start_time": "2021-01-04T17:20:34.025334",
     "status": "completed"
    },
    "tags": []
   },
   "source": [
    "CountVectorizer'ı kopyalanan verilerle kullanma"
   ]
  },
  {
   "cell_type": "code",
   "execution_count": 14,
   "metadata": {
    "execution": {
     "iopub.execute_input": "2021-01-04T17:20:34.171861Z",
     "iopub.status.busy": "2021-01-04T17:20:34.171198Z",
     "iopub.status.idle": "2021-01-04T17:20:34.228422Z",
     "shell.execute_reply": "2021-01-04T17:20:34.227477Z"
    },
    "papermill": {
     "duration": 0.110209,
     "end_time": "2021-01-04T17:20:34.228561",
     "exception": false,
     "start_time": "2021-01-04T17:20:34.118352",
     "status": "completed"
    },
    "tags": []
   },
   "outputs": [],
   "source": [
    "from sklearn.feature_extraction.text import CountVectorizer"
   ]
  },
  {
   "cell_type": "code",
   "execution_count": 15,
   "metadata": {
    "execution": {
     "iopub.execute_input": "2021-01-04T17:20:34.330719Z",
     "iopub.status.busy": "2021-01-04T17:20:34.329730Z",
     "iopub.status.idle": "2021-01-04T17:20:34.335700Z",
     "shell.execute_reply": "2021-01-04T17:20:34.335064Z"
    },
    "papermill": {
     "duration": 0.060565,
     "end_time": "2021-01-04T17:20:34.335801",
     "exception": false,
     "start_time": "2021-01-04T17:20:34.275236",
     "status": "completed"
    },
    "tags": []
   },
   "outputs": [],
   "source": [
    "copied_data = data.copy()"
   ]
  },
  {
   "cell_type": "code",
   "execution_count": 16,
   "metadata": {
    "execution": {
     "iopub.execute_input": "2021-01-04T17:20:34.408560Z",
     "iopub.status.busy": "2021-01-04T17:20:34.407199Z",
     "iopub.status.idle": "2021-01-04T17:22:25.730525Z",
     "shell.execute_reply": "2021-01-04T17:22:25.729949Z"
    },
    "papermill": {
     "duration": 111.363401,
     "end_time": "2021-01-04T17:22:25.730610",
     "exception": false,
     "start_time": "2021-01-04T17:20:34.367209",
     "status": "completed"
    },
    "tags": []
   },
   "outputs": [],
   "source": [
    "import re\n",
    "from nltk.corpus import stopwords\n",
    "from nltk.stem.porter import PorterStemmer\n",
    "ps = PorterStemmer()\n",
    "corpus = []\n",
    "for i in range(0, len(copied_data)):\n",
    "    review = re.sub('[^a-zA-Z]', ' ', copied_data['title'][i])\n",
    "    review = review.lower()\n",
    "    review = review.split()\n",
    "    \n",
    "    review = [ps.stem(word) for word in review if not word in stopwords.words('english')]\n",
    "    review = ' '.join(review)\n",
    "    corpus.append(review)"
   ]
  },
  {
   "cell_type": "code",
   "execution_count": 17,
   "metadata": {
    "execution": {
     "iopub.execute_input": "2021-01-04T17:22:25.798797Z",
     "iopub.status.busy": "2021-01-04T17:22:25.797916Z",
     "iopub.status.idle": "2021-01-04T17:22:31.004075Z",
     "shell.execute_reply": "2021-01-04T17:22:31.003198Z"
    },
    "papermill": {
     "duration": 5.246795,
     "end_time": "2021-01-04T17:22:31.004210",
     "exception": false,
     "start_time": "2021-01-04T17:22:25.757415",
     "status": "completed"
    },
    "tags": []
   },
   "outputs": [],
   "source": [
    "from sklearn.feature_extraction.text import CountVectorizer\n",
    "cv = CountVectorizer(max_features=5000, ngram_range=(1,3))\n",
    "X = cv.fit_transform(corpus).toarray()"
   ]
  },
  {
   "cell_type": "code",
   "execution_count": 18,
   "metadata": {
    "execution": {
     "iopub.execute_input": "2021-01-04T17:22:31.105450Z",
     "iopub.status.busy": "2021-01-04T17:22:31.104411Z",
     "iopub.status.idle": "2021-01-04T17:22:31.109700Z",
     "shell.execute_reply": "2021-01-04T17:22:31.108994Z"
    },
    "papermill": {
     "duration": 0.057921,
     "end_time": "2021-01-04T17:22:31.109897",
     "exception": false,
     "start_time": "2021-01-04T17:22:31.051976",
     "status": "completed"
    },
    "tags": []
   },
   "outputs": [
    {
     "data": {
      "text/plain": [
       "(44898, 5000)"
      ]
     },
     "execution_count": 18,
     "metadata": {},
     "output_type": "execute_result"
    }
   ],
   "source": [
    "X.shape"
   ]
  },
  {
   "cell_type": "code",
   "execution_count": 19,
   "metadata": {
    "execution": {
     "iopub.execute_input": "2021-01-04T17:22:31.212084Z",
     "iopub.status.busy": "2021-01-04T17:22:31.210997Z",
     "iopub.status.idle": "2021-01-04T17:22:31.215448Z",
     "shell.execute_reply": "2021-01-04T17:22:31.214628Z"
    },
    "papermill": {
     "duration": 0.057803,
     "end_time": "2021-01-04T17:22:31.215577",
     "exception": false,
     "start_time": "2021-01-04T17:22:31.157774",
     "status": "completed"
    },
    "tags": []
   },
   "outputs": [],
   "source": [
    "y = copied_data['label']"
   ]
  },
  {
   "cell_type": "markdown",
   "metadata": {
    "papermill": {
     "duration": 0.04803,
     "end_time": "2021-01-04T17:22:31.311768",
     "exception": false,
     "start_time": "2021-01-04T17:22:31.263738",
     "status": "completed"
    },
    "tags": []
   },
   "source": [
    "Test Eğitimi Bölümü"
   ]
  },
  {
   "cell_type": "code",
   "execution_count": 20,
   "metadata": {
    "execution": {
     "iopub.execute_input": "2021-01-04T17:22:31.402944Z",
     "iopub.status.busy": "2021-01-04T17:22:31.401826Z",
     "iopub.status.idle": "2021-01-04T17:22:31.880525Z",
     "shell.execute_reply": "2021-01-04T17:22:31.881279Z"
    },
    "papermill": {
     "duration": 0.531973,
     "end_time": "2021-01-04T17:22:31.881473",
     "exception": false,
     "start_time": "2021-01-04T17:22:31.349500",
     "status": "completed"
    },
    "tags": []
   },
   "outputs": [],
   "source": [
    "from sklearn.model_selection import train_test_split\n",
    "X_train, X_test, y_train, y_test = train_test_split(X,y, test_size=0.3, random_state=2)"
   ]
  },
  {
   "cell_type": "code",
   "execution_count": 21,
   "metadata": {
    "execution": {
     "iopub.execute_input": "2021-01-04T17:22:31.993931Z",
     "iopub.status.busy": "2021-01-04T17:22:31.993269Z",
     "iopub.status.idle": "2021-01-04T17:22:31.997608Z",
     "shell.execute_reply": "2021-01-04T17:22:31.996902Z"
    },
    "papermill": {
     "duration": 0.067552,
     "end_time": "2021-01-04T17:22:31.997719",
     "exception": false,
     "start_time": "2021-01-04T17:22:31.930167",
     "status": "completed"
    },
    "tags": []
   },
   "outputs": [
    {
     "data": {
      "text/plain": [
       "['abadi',\n",
       " 'abandon',\n",
       " 'abba',\n",
       " 'abc',\n",
       " 'abc news',\n",
       " 'abe',\n",
       " 'abedin',\n",
       " 'abil',\n",
       " 'abl',\n",
       " 'abort']"
      ]
     },
     "execution_count": 21,
     "metadata": {},
     "output_type": "execute_result"
    }
   ],
   "source": [
    "cv.get_feature_names()[:10]"
   ]
  },
  {
   "cell_type": "code",
   "execution_count": 22,
   "metadata": {
    "execution": {
     "iopub.execute_input": "2021-01-04T17:22:32.071031Z",
     "iopub.status.busy": "2021-01-04T17:22:32.070154Z",
     "iopub.status.idle": "2021-01-04T17:22:32.074129Z",
     "shell.execute_reply": "2021-01-04T17:22:32.073336Z"
    },
    "papermill": {
     "duration": 0.043875,
     "end_time": "2021-01-04T17:22:32.074258",
     "exception": false,
     "start_time": "2021-01-04T17:22:32.030383",
     "status": "completed"
    },
    "tags": []
   },
   "outputs": [
    {
     "data": {
      "text/plain": [
       "{'analyzer': 'word',\n",
       " 'binary': False,\n",
       " 'decode_error': 'strict',\n",
       " 'dtype': numpy.int64,\n",
       " 'encoding': 'utf-8',\n",
       " 'input': 'content',\n",
       " 'lowercase': True,\n",
       " 'max_df': 1.0,\n",
       " 'max_features': 5000,\n",
       " 'min_df': 1,\n",
       " 'ngram_range': (1, 3),\n",
       " 'preprocessor': None,\n",
       " 'stop_words': None,\n",
       " 'strip_accents': None,\n",
       " 'token_pattern': '(?u)\\\\b\\\\w\\\\w+\\\\b',\n",
       " 'tokenizer': None,\n",
       " 'vocabulary': None}"
      ]
     },
     "execution_count": 22,
     "metadata": {},
     "output_type": "execute_result"
    }
   ],
   "source": [
    "cv.get_params()"
   ]
  },
  {
   "cell_type": "code",
   "execution_count": 23,
   "metadata": {
    "execution": {
     "iopub.execute_input": "2021-01-04T17:22:32.193430Z",
     "iopub.status.busy": "2021-01-04T17:22:32.189269Z",
     "iopub.status.idle": "2021-01-04T17:22:32.196590Z",
     "shell.execute_reply": "2021-01-04T17:22:32.195933Z"
    },
    "papermill": {
     "duration": 0.072582,
     "end_time": "2021-01-04T17:22:32.196701",
     "exception": false,
     "start_time": "2021-01-04T17:22:32.124119",
     "status": "completed"
    },
    "tags": []
   },
   "outputs": [],
   "source": [
    "cout_df = pd.DataFrame(X_train, columns=cv.get_feature_names())"
   ]
  },
  {
   "cell_type": "code",
   "execution_count": 24,
   "metadata": {
    "execution": {
     "iopub.execute_input": "2021-01-04T17:22:32.283797Z",
     "iopub.status.busy": "2021-01-04T17:22:32.271158Z",
     "iopub.status.idle": "2021-01-04T17:22:32.290847Z",
     "shell.execute_reply": "2021-01-04T17:22:32.290167Z"
    },
    "papermill": {
     "duration": 0.059587,
     "end_time": "2021-01-04T17:22:32.290962",
     "exception": false,
     "start_time": "2021-01-04T17:22:32.231375",
     "status": "completed"
    },
    "tags": []
   },
   "outputs": [
    {
     "data": {
      "text/html": [
       "<div>\n",
       "<style scoped>\n",
       "    .dataframe tbody tr th:only-of-type {\n",
       "        vertical-align: middle;\n",
       "    }\n",
       "\n",
       "    .dataframe tbody tr th {\n",
       "        vertical-align: top;\n",
       "    }\n",
       "\n",
       "    .dataframe thead th {\n",
       "        text-align: right;\n",
       "    }\n",
       "</style>\n",
       "<table border=\"1\" class=\"dataframe\">\n",
       "  <thead>\n",
       "    <tr style=\"text-align: right;\">\n",
       "      <th></th>\n",
       "      <th>abadi</th>\n",
       "      <th>abandon</th>\n",
       "      <th>abba</th>\n",
       "      <th>abc</th>\n",
       "      <th>abc news</th>\n",
       "      <th>abe</th>\n",
       "      <th>abedin</th>\n",
       "      <th>abil</th>\n",
       "      <th>abl</th>\n",
       "      <th>abort</th>\n",
       "      <th>...</th>\n",
       "      <th>zero</th>\n",
       "      <th>zika</th>\n",
       "      <th>zika fund</th>\n",
       "      <th>zimbabw</th>\n",
       "      <th>zimbabw mnangagwa</th>\n",
       "      <th>zimbabw mugab</th>\n",
       "      <th>zone</th>\n",
       "      <th>zor</th>\n",
       "      <th>zuckerberg</th>\n",
       "      <th>zuma</th>\n",
       "    </tr>\n",
       "  </thead>\n",
       "  <tbody>\n",
       "    <tr>\n",
       "      <th>0</th>\n",
       "      <td>0</td>\n",
       "      <td>0</td>\n",
       "      <td>0</td>\n",
       "      <td>0</td>\n",
       "      <td>0</td>\n",
       "      <td>0</td>\n",
       "      <td>0</td>\n",
       "      <td>0</td>\n",
       "      <td>0</td>\n",
       "      <td>0</td>\n",
       "      <td>...</td>\n",
       "      <td>0</td>\n",
       "      <td>0</td>\n",
       "      <td>0</td>\n",
       "      <td>0</td>\n",
       "      <td>0</td>\n",
       "      <td>0</td>\n",
       "      <td>0</td>\n",
       "      <td>0</td>\n",
       "      <td>0</td>\n",
       "      <td>0</td>\n",
       "    </tr>\n",
       "    <tr>\n",
       "      <th>1</th>\n",
       "      <td>0</td>\n",
       "      <td>0</td>\n",
       "      <td>0</td>\n",
       "      <td>0</td>\n",
       "      <td>0</td>\n",
       "      <td>0</td>\n",
       "      <td>0</td>\n",
       "      <td>0</td>\n",
       "      <td>0</td>\n",
       "      <td>0</td>\n",
       "      <td>...</td>\n",
       "      <td>0</td>\n",
       "      <td>0</td>\n",
       "      <td>0</td>\n",
       "      <td>0</td>\n",
       "      <td>0</td>\n",
       "      <td>0</td>\n",
       "      <td>0</td>\n",
       "      <td>0</td>\n",
       "      <td>0</td>\n",
       "      <td>0</td>\n",
       "    </tr>\n",
       "    <tr>\n",
       "      <th>2</th>\n",
       "      <td>0</td>\n",
       "      <td>0</td>\n",
       "      <td>0</td>\n",
       "      <td>0</td>\n",
       "      <td>0</td>\n",
       "      <td>0</td>\n",
       "      <td>0</td>\n",
       "      <td>0</td>\n",
       "      <td>0</td>\n",
       "      <td>0</td>\n",
       "      <td>...</td>\n",
       "      <td>0</td>\n",
       "      <td>0</td>\n",
       "      <td>0</td>\n",
       "      <td>0</td>\n",
       "      <td>0</td>\n",
       "      <td>0</td>\n",
       "      <td>0</td>\n",
       "      <td>0</td>\n",
       "      <td>0</td>\n",
       "      <td>0</td>\n",
       "    </tr>\n",
       "    <tr>\n",
       "      <th>3</th>\n",
       "      <td>0</td>\n",
       "      <td>0</td>\n",
       "      <td>0</td>\n",
       "      <td>0</td>\n",
       "      <td>0</td>\n",
       "      <td>0</td>\n",
       "      <td>0</td>\n",
       "      <td>0</td>\n",
       "      <td>0</td>\n",
       "      <td>0</td>\n",
       "      <td>...</td>\n",
       "      <td>0</td>\n",
       "      <td>0</td>\n",
       "      <td>0</td>\n",
       "      <td>0</td>\n",
       "      <td>0</td>\n",
       "      <td>0</td>\n",
       "      <td>0</td>\n",
       "      <td>0</td>\n",
       "      <td>0</td>\n",
       "      <td>0</td>\n",
       "    </tr>\n",
       "    <tr>\n",
       "      <th>4</th>\n",
       "      <td>0</td>\n",
       "      <td>0</td>\n",
       "      <td>0</td>\n",
       "      <td>0</td>\n",
       "      <td>0</td>\n",
       "      <td>0</td>\n",
       "      <td>0</td>\n",
       "      <td>0</td>\n",
       "      <td>0</td>\n",
       "      <td>0</td>\n",
       "      <td>...</td>\n",
       "      <td>0</td>\n",
       "      <td>0</td>\n",
       "      <td>0</td>\n",
       "      <td>0</td>\n",
       "      <td>0</td>\n",
       "      <td>0</td>\n",
       "      <td>0</td>\n",
       "      <td>0</td>\n",
       "      <td>0</td>\n",
       "      <td>0</td>\n",
       "    </tr>\n",
       "  </tbody>\n",
       "</table>\n",
       "<p>5 rows × 5000 columns</p>\n",
       "</div>"
      ],
      "text/plain": [
       "   abadi  abandon  abba  abc  abc news  abe  abedin  abil  abl  abort  ...  \\\n",
       "0      0        0     0    0         0    0       0     0    0      0  ...   \n",
       "1      0        0     0    0         0    0       0     0    0      0  ...   \n",
       "2      0        0     0    0         0    0       0     0    0      0  ...   \n",
       "3      0        0     0    0         0    0       0     0    0      0  ...   \n",
       "4      0        0     0    0         0    0       0     0    0      0  ...   \n",
       "\n",
       "   zero  zika  zika fund  zimbabw  zimbabw mnangagwa  zimbabw mugab  zone  \\\n",
       "0     0     0          0        0                  0              0     0   \n",
       "1     0     0          0        0                  0              0     0   \n",
       "2     0     0          0        0                  0              0     0   \n",
       "3     0     0          0        0                  0              0     0   \n",
       "4     0     0          0        0                  0              0     0   \n",
       "\n",
       "   zor  zuckerberg  zuma  \n",
       "0    0           0     0  \n",
       "1    0           0     0  \n",
       "2    0           0     0  \n",
       "3    0           0     0  \n",
       "4    0           0     0  \n",
       "\n",
       "[5 rows x 5000 columns]"
      ]
     },
     "execution_count": 24,
     "metadata": {},
     "output_type": "execute_result"
    }
   ],
   "source": [
    "cout_df.head()"
   ]
  },
  {
   "cell_type": "code",
   "execution_count": 25,
   "metadata": {
    "execution": {
     "iopub.execute_input": "2021-01-04T17:22:32.363709Z",
     "iopub.status.busy": "2021-01-04T17:22:32.363002Z",
     "iopub.status.idle": "2021-01-04T17:22:32.367308Z",
     "shell.execute_reply": "2021-01-04T17:22:32.366704Z"
    },
    "papermill": {
     "duration": 0.042743,
     "end_time": "2021-01-04T17:22:32.367454",
     "exception": false,
     "start_time": "2021-01-04T17:22:32.324711",
     "status": "completed"
    },
    "tags": []
   },
   "outputs": [],
   "source": [
    "import matplotlib.pyplot as plt"
   ]
  },
  {
   "cell_type": "markdown",
   "metadata": {
    "papermill": {
     "duration": 0.034232,
     "end_time": "2021-01-04T17:22:32.436379",
     "exception": false,
     "start_time": "2021-01-04T17:22:32.402147",
     "status": "completed"
    },
    "tags": []
   },
   "source": [
    "### Function for ploting "
   ]
  },
  {
   "cell_type": "code",
   "execution_count": 26,
   "metadata": {
    "execution": {
     "iopub.execute_input": "2021-01-04T17:22:32.522447Z",
     "iopub.status.busy": "2021-01-04T17:22:32.517208Z",
     "iopub.status.idle": "2021-01-04T17:22:32.531570Z",
     "shell.execute_reply": "2021-01-04T17:22:32.530928Z"
    },
    "papermill": {
     "duration": 0.058713,
     "end_time": "2021-01-04T17:22:32.531690",
     "exception": false,
     "start_time": "2021-01-04T17:22:32.472977",
     "status": "completed"
    },
    "tags": []
   },
   "outputs": [],
   "source": [
    "def plot_confusion_matrix(cm, classes,\n",
    "                          normalize=False,\n",
    "                          title='Confusion matrix',\n",
    "                          cmap=plt.cm.Blues):\n",
    "    \"\"\"\n",
    "    See full source and example: \n",
    "    http://scikit-learn.org/stable/auto_examples/model_selection/plot_confusion_matrix.html\n",
    "    \n",
    "    This function prints and plots the confusion matrix.\n",
    "    Normalization can be applied by setting `normalize=True`.\n",
    "    \"\"\"\n",
    "    plt.imshow(cm, interpolation='nearest', cmap=cmap)\n",
    "    plt.title(title)\n",
    "    plt.colorbar()\n",
    "    tick_marks = np.arange(len(classes))\n",
    "    plt.xticks(tick_marks, classes, rotation=45)\n",
    "    plt.yticks(tick_marks, classes)\n",
    "\n",
    "    if normalize:\n",
    "        cm = cm.astype('float') / cm.sum(axis=1)[:, np.newaxis]\n",
    "        print(\"Normalized confusion matrix\")\n",
    "    else:\n",
    "        print('Confusion matrix, without normalization')\n",
    "\n",
    "    thresh = cm.max() / 2.\n",
    "    for i, j in itertools.product(range(cm.shape[0]), range(cm.shape[1])):\n",
    "        plt.text(j, i, cm[i, j],\n",
    "                 horizontalalignment=\"center\",\n",
    "                 color=\"white\" if cm[i, j] > thresh else \"black\")\n",
    "\n",
    "    plt.tight_layout()\n",
    "    plt.ylabel('True label')\n",
    "    plt.xlabel('Predicted label')"
   ]
  },
  {
   "cell_type": "markdown",
   "metadata": {
    "papermill": {
     "duration": 0.034543,
     "end_time": "2021-01-04T17:22:32.600436",
     "exception": false,
     "start_time": "2021-01-04T17:22:32.565893",
     "status": "completed"
    },
    "tags": []
   },
   "source": [
    "Use of Multinomial NB Classifier"
   ]
  },
  {
   "cell_type": "code",
   "execution_count": 27,
   "metadata": {
    "execution": {
     "iopub.execute_input": "2021-01-04T17:22:32.674283Z",
     "iopub.status.busy": "2021-01-04T17:22:32.673563Z",
     "iopub.status.idle": "2021-01-04T17:22:32.681638Z",
     "shell.execute_reply": "2021-01-04T17:22:32.680914Z"
    },
    "papermill": {
     "duration": 0.047041,
     "end_time": "2021-01-04T17:22:32.681756",
     "exception": false,
     "start_time": "2021-01-04T17:22:32.634715",
     "status": "completed"
    },
    "tags": []
   },
   "outputs": [],
   "source": [
    "from sklearn.naive_bayes import MultinomialNB\n",
    "from sklearn import metrics\n",
    "import itertools\n",
    "classifier = MultinomialNB()"
   ]
  },
  {
   "cell_type": "code",
   "execution_count": 28,
   "metadata": {
    "execution": {
     "iopub.execute_input": "2021-01-04T17:22:32.758525Z",
     "iopub.status.busy": "2021-01-04T17:22:32.757731Z",
     "iopub.status.idle": "2021-01-04T17:22:34.430683Z",
     "shell.execute_reply": "2021-01-04T17:22:34.430097Z"
    },
    "papermill": {
     "duration": 1.714337,
     "end_time": "2021-01-04T17:22:34.430806",
     "exception": false,
     "start_time": "2021-01-04T17:22:32.716469",
     "status": "completed"
    },
    "tags": []
   },
   "outputs": [
    {
     "name": "stdout",
     "output_type": "stream",
     "text": [
      "accuracy: 0.931\n",
      "Confusion matrix, without normalization\n"
     ]
    },
    {
     "data": {
      "image/png": "[encoded data removed]",
      "text/plain": [
       "<Figure size 432x288 with 2 Axes>"
      ]
     },
     "metadata": {
      "needs_background": "light"
     },
     "output_type": "display_data"
    }
   ],
   "source": [
    "classifier.fit(X_train, y_train)\n",
    "pred = classifier.predict(X_test)\n",
    "score = metrics.accuracy_score(y_test, pred)\n",
    "print(\"accuracy: %0.3f\" % score)\n",
    "cm = metrics.confusion_matrix(y_test, pred)\n",
    "plot_confusion_matrix(cm, classes=['Fake', 'Real'])"
   ]
  },
  {
   "cell_type": "code",
   "execution_count": 29,
   "metadata": {
    "execution": {
     "iopub.execute_input": "2021-01-04T17:22:34.512281Z",
     "iopub.status.busy": "2021-01-04T17:22:34.511436Z",
     "iopub.status.idle": "2021-01-04T17:22:35.826992Z",
     "shell.execute_reply": "2021-01-04T17:22:35.826410Z"
    },
    "papermill": {
     "duration": 1.358326,
     "end_time": "2021-01-04T17:22:35.827108",
     "exception": false,
     "start_time": "2021-01-04T17:22:34.468782",
     "status": "completed"
    },
    "tags": []
   },
   "outputs": [
    {
     "data": {
      "text/plain": [
       "0.9308092056421677"
      ]
     },
     "execution_count": 29,
     "metadata": {},
     "output_type": "execute_result"
    }
   ],
   "source": [
    "classifier.fit(X_train, y_train)\n",
    "pred = classifier.predict(X_test)\n",
    "score = metrics.accuracy_score(y_test, pred)\n",
    "score"
   ]
  },
  {
   "cell_type": "markdown",
   "metadata": {
    "papermill": {
     "duration": 0.036651,
     "end_time": "2021-01-04T17:22:35.900162",
     "exception": false,
     "start_time": "2021-01-04T17:22:35.863511",
     "status": "completed"
    },
    "tags": []
   },
   "source": [
    "Use of Passive Aggressive Classifier"
   ]
  },
  {
   "cell_type": "code",
   "execution_count": 30,
   "metadata": {
    "execution": {
     "iopub.execute_input": "2021-01-04T17:22:35.981134Z",
     "iopub.status.busy": "2021-01-04T17:22:35.980462Z",
     "iopub.status.idle": "2021-01-04T17:22:35.983230Z",
     "shell.execute_reply": "2021-01-04T17:22:35.983747Z"
    },
    "papermill": {
     "duration": 0.047387,
     "end_time": "2021-01-04T17:22:35.983895",
     "exception": false,
     "start_time": "2021-01-04T17:22:35.936508",
     "status": "completed"
    },
    "tags": []
   },
   "outputs": [],
   "source": [
    "from sklearn.linear_model import PassiveAggressiveClassifier\n",
    "linear_clf = PassiveAggressiveClassifier(max_iter = 50)"
   ]
  },
  {
   "cell_type": "code",
   "execution_count": 31,
   "metadata": {
    "execution": {
     "iopub.execute_input": "2021-01-04T17:22:36.064380Z",
     "iopub.status.busy": "2021-01-04T17:22:36.063744Z",
     "iopub.status.idle": "2021-01-04T17:23:00.488680Z",
     "shell.execute_reply": "2021-01-04T17:23:00.487997Z"
    },
    "papermill": {
     "duration": 24.467944,
     "end_time": "2021-01-04T17:23:00.488792",
     "exception": false,
     "start_time": "2021-01-04T17:22:36.020848",
     "status": "completed"
    },
    "tags": []
   },
   "outputs": [
    {
     "name": "stdout",
     "output_type": "stream",
     "text": [
      "accuracy: 0.932\n",
      "Confusion matrix, without normalization\n"
     ]
    },
    {
     "data": {
      "image/png": "[encoded data removed]",
      "text/plain": [
       "<Figure size 432x288 with 2 Axes>"
      ]
     },
     "metadata": {
      "needs_background": "light"
     },
     "output_type": "display_data"
    }
   ],
   "source": [
    "linear_clf.fit(X_train, y_train)\n",
    "pred = linear_clf.predict(X_test)\n",
    "score = metrics.accuracy_score(y_test, pred)\n",
    "print(\"accuracy: %0.3f\" % score)\n",
    "cm = metrics.confusion_matrix(y_test, pred)\n",
    "plot_confusion_matrix(cm, classes=['Fake', 'Real'])"
   ]
  },
  {
   "cell_type": "code",
   "execution_count": 32,
   "metadata": {
    "execution": {
     "iopub.execute_input": "2021-01-04T17:23:00.604836Z",
     "iopub.status.busy": "2021-01-04T17:23:00.603836Z",
     "iopub.status.idle": "2021-01-04T17:23:00.744469Z",
     "shell.execute_reply": "2021-01-04T17:23:00.744949Z"
    },
    "papermill": {
     "duration": 0.20421,
     "end_time": "2021-01-04T17:23:00.745087",
     "exception": false,
     "start_time": "2021-01-04T17:23:00.540877",
     "status": "completed"
    },
    "tags": []
   },
   "outputs": [
    {
     "data": {
      "text/plain": [
       "0.9320712694877505"
      ]
     },
     "execution_count": 32,
     "metadata": {},
     "output_type": "execute_result"
    }
   ],
   "source": [
    "pred = linear_clf.predict(X_test)\n",
    "score = metrics.accuracy_score(y_test, pred)\n",
    "score"
   ]
  }
 ],
 "metadata": {
  "kernelspec": {
   "display_name": "Python 3",
   "language": "python",
   "name": "python3"
  },
  "language_info": {
   "codemirror_mode": {
    "name": "ipython",
    "version": 3
   },
   "file_extension": ".py",
   "mimetype": "text/x-python",
   "name": "python",
   "nbconvert_exporter": "python",
   "pygments_lexer": "ipython3",
   "version": "3.7.6"
  },
  "papermill": {
   "duration": 157.055573,
   "end_time": "2021-01-04T17:23:00.894576",
   "environment_variables": {},
   "exception": null,
   "input_path": "__notebook__.ipynb",
   "output_path": "__notebook__.ipynb",
   "parameters": {},
   "start_time": "2021-01-04T17:20:23.839003",
   "version": "2.1.0"
  }
 },
 "nbformat": 4,
 "nbformat_minor": 4
}
